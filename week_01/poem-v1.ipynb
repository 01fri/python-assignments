{
 "cells": [
  {
   "cell_type": "markdown",
   "id": "guided-watson",
   "metadata": {},
   "source": [
    "# *ALL*\n",
    "by Bei Dao\n"
   ]
  },
  {
   "cell_type": "code",
   "execution_count": 17,
   "id": "configured-literacy",
   "metadata": {},
   "outputs": [
    {
     "name": "stdout",
     "output_type": "stream",
     "text": [
      "ALL\n",
      "\n",
      "\n",
      "Bei Dao\n",
      "\n",
      "\n",
      "All is fated,\n",
      "all is cloudy,\n",
      "\n",
      "\n",
      "all an endless beginning,\n",
      "all a search for what vanishes,\n",
      "\n",
      "\n",
      "all joys grave,\n",
      "all grief's tearless,\n",
      "\n",
      "\n",
      "every speech a repetition,\n",
      "every meeting a first encounter,\n",
      "\n",
      "\n",
      "all love buried in the heart,\n",
      "all history prisoned in a dream\n",
      "\n",
      "\n",
      "all hope hedged with doubt,\n",
      "all faith drowned in lamentation.\n",
      "\n",
      "\n",
      "Every explosion heralds an instant of stillness,\n",
      "every death reverberates forever.\n",
      "\n",
      "\n"
     ]
    }
   ],
   "source": [
    "print('ALL')\n",
    "print('\\n')\n",
    "print('Bei Dao')\n",
    "print('\\n')\n",
    "print('All is fated,')\n",
    "print('all is cloudy,')\n",
    "print('\\n')\n",
    "print('all an endless beginning,')\n",
    "print('all a search for what vanishes,')\n",
    "print('\\n')\n",
    "print('all joys grave,')\n",
    "print(\"all grief's tearless,\")\n",
    "print('\\n')\n",
    "print('every speech a repetition,')\n",
    "print('every meeting a first encounter,')\n",
    "print('\\n')\n",
    "print('all love buried in the heart,')\n",
    "print('all history prisoned in a dream')\n",
    "print('\\n')\n",
    "print('all hope hedged with doubt,')\n",
    "print('all faith drowned in lamentation.')\n",
    "print('\\n')\n",
    "print('Every explosion heralds an instant of stillness,')\n",
    "print('every death reverberates forever.')\n",
    "print('\\n')"
   ]
  },
  {
   "cell_type": "markdown",
   "id": "miniature-photograph",
   "metadata": {},
   "source": [
    "\n",
    "\n",
    "\n",
    "\n",
    "### *Original Chinese Version*"
   ]
  },
  {
   "cell_type": "code",
   "execution_count": 13,
   "id": "personalized-portfolio",
   "metadata": {},
   "outputs": [
    {
     "name": "stdout",
     "output_type": "stream",
     "text": [
      "一切\n",
      "\n",
      "\n",
      "北岛\n",
      "\n",
      "\n",
      "一切都是命运\n",
      "一切都是烟云\n",
      "\n",
      "\n",
      "一切都是没有结局的开始\n",
      "一切都是稍纵即逝的追寻\n",
      "\n",
      "\n",
      "一切欢乐都没有微笑\n",
      "一切苦难都没有泪痕\n",
      "\n",
      "\n",
      "一切语言都是重复\n",
      "一切交往都是初逢\n",
      "\n",
      "\n",
      "一切爱情都在心里\n",
      "一切往事都在梦中\n",
      "\n",
      "\n",
      "一切希望都带着注释\n",
      "一切信仰都带着呻吟\n",
      "\n",
      "\n",
      "一切爆发都有片刻的宁静\n",
      "一切死亡都有冗长的回声\n"
     ]
    }
   ],
   "source": [
    "print('一切')\n",
    "print('\\n')\n",
    "print('北岛')\n",
    "print('\\n')\n",
    "print('一切都是命运')\n",
    "print('一切都是烟云')\n",
    "print('\\n')\n",
    "print('一切都是没有结局的开始')\n",
    "print('一切都是稍纵即逝的追寻')\n",
    "print('\\n')\n",
    "print('一切欢乐都没有微笑')\n",
    "print(\"一切苦难都没有泪痕\")\n",
    "print('\\n')\n",
    "print('一切语言都是重复')\n",
    "print('一切交往都是初逢')\n",
    "print('\\n')\n",
    "print('一切爱情都在心里')\n",
    "print('一切往事都在梦中')\n",
    "print('\\n')\n",
    "print('一切希望都带着注释')\n",
    "print('一切信仰都带着呻吟')\n",
    "print('\\n')\n",
    "print('一切爆发都有片刻的宁静')\n",
    "print('一切死亡都有冗长的回声')"
   ]
  },
  {
   "cell_type": "markdown",
   "id": "accepting-clark",
   "metadata": {},
   "source": [
    "### *Two Versions In A Table*"
   ]
  },
  {
   "cell_type": "markdown",
   "id": "flexible-latino",
   "metadata": {},
   "source": [
    "*English Version* | *Chinese Version*\n",
    "------------ | -------------\n",
    "ALL | 一切\n",
    "Bei Dao | 北岛\n",
    "    |  \n",
    "All is fated, | 一切都是命运\n",
    "all is cloudy, | 一切都是烟云\n",
    "all an endless beginning, | 一切都是没有结局的开始\n",
    "all a search for what vanishes, | 一切都是稍纵即逝的追寻\n",
    "all joys grave, | 一切欢乐都没有微笑\n",
    "all grief's tearless, | 一切苦难都没有泪痕\n",
    "every speech a repetition, | 一切语言都是重复\n",
    "every meeting a first encounter, | 一切交往都是初逢\n",
    "all love buried in the heart, | 一切爱情都在心里\n",
    "all history prisoned in a dream | 一切往事都在梦中\n",
    "all hope hedged with doubt, | 一切希望都带着注释\n",
    "all faith drowned in lamentation. | 一切信仰都带着呻吟\n",
    "Every explosion heralds an instant of stillness, | 一切爆发都有片刻的宁静\n",
    "every death reverberates forever. | 一切死亡都有冗长的回声"
   ]
  },
  {
   "cell_type": "code",
   "execution_count": 1,
   "id": "sixth-papua",
   "metadata": {},
   "outputs": [
    {
     "name": "stdout",
     "output_type": "stream",
     "text": [
      "Collecting tabulate\n",
      "  Downloading tabulate-0.8.9-py3-none-any.whl (25 kB)\n",
      "Installing collected packages: tabulate\n",
      "Successfully installed tabulate-0.8.9\n",
      "\u001b[33mWARNING: You are using pip version 21.0.1; however, version 21.1.2 is available.\n",
      "You should consider upgrading via the '/usr/local/Cellar/jupyterlab/3.0.7/libexec/bin/python3 -m pip install --upgrade pip' command.\u001b[0m\n",
      "Note: you may need to restart the kernel to use updated packages.\n"
     ]
    }
   ],
   "source": [
    "pip install tabulate"
   ]
  },
  {
   "cell_type": "code",
   "execution_count": 2,
   "id": "standard-explosion",
   "metadata": {},
   "outputs": [],
   "source": [
    "from tabulate import tabulate"
   ]
  },
  {
   "cell_type": "code",
   "execution_count": 20,
   "id": "strategic-requirement",
   "metadata": {},
   "outputs": [],
   "source": [
    "table = [['English Version', 'Chinese Version'], ['ALL', '一切'], ['Bei Dao', '北岛'], ['All is fated', '一切都是命运'], ['all is cloudy', '一切都是烟云']]"
   ]
  },
  {
   "cell_type": "code",
   "execution_count": 21,
   "id": "peaceful-barcelona",
   "metadata": {},
   "outputs": [
    {
     "name": "stdout",
     "output_type": "stream",
     "text": [
      "---------------  ---------------\n",
      "English Version  Chinese Version\n",
      "ALL              一切\n",
      "Bei Dao          北岛\n",
      "All is fated     一切都是命运\n",
      "all is cloudy    一切都是烟云\n",
      "---------------  ---------------\n"
     ]
    }
   ],
   "source": [
    "print(tabulate(table))"
   ]
  },
  {
   "cell_type": "code",
   "execution_count": null,
   "id": "grand-thirty",
   "metadata": {},
   "outputs": [],
   "source": []
  }
 ],
 "metadata": {
  "kernelspec": {
   "display_name": "Python 3",
   "language": "python",
   "name": "python3"
  },
  "language_info": {
   "codemirror_mode": {
    "name": "ipython",
    "version": 3
   },
   "file_extension": ".py",
   "mimetype": "text/x-python",
   "name": "python",
   "nbconvert_exporter": "python",
   "pygments_lexer": "ipython3",
   "version": "3.9.1"
  }
 },
 "nbformat": 4,
 "nbformat_minor": 5
}
