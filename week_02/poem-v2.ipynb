{
 "cells": [
  {
   "cell_type": "markdown",
   "id": "guided-watson",
   "metadata": {},
   "source": [
    "# *ALL*\n",
    "by Bei Dao\n"
   ]
  },
  {
   "cell_type": "code",
   "execution_count": 155,
   "id": "german-raleigh",
   "metadata": {},
   "outputs": [],
   "source": [
    "class color:\n",
    "   PURPLE = '\\033[95m'\n",
    "   CYAN = '\\033[96m'\n",
    "   DARKCYAN = '\\033[36m'\n",
    "   BLUE = '\\033[94m'\n",
    "   GREEN = '\\033[92m'\n",
    "   YELLOW = '\\033[93m'\n",
    "   RED = '\\033[91m'\n",
    "   BOLD = '\\033[1m'\n",
    "   UNDERLINE = '\\033[4m'\n",
    "   END = '\\033[0m'"
   ]
  },
  {
   "cell_type": "markdown",
   "id": "accepting-clark",
   "metadata": {},
   "source": [
    "### *First Experiment*"
   ]
  },
  {
   "cell_type": "code",
   "execution_count": 156,
   "id": "sixth-papua",
   "metadata": {},
   "outputs": [
    {
     "name": "stdout",
     "output_type": "stream",
     "text": [
      "Requirement already satisfied: tabulate in /usr/local/Cellar/jupyterlab/3.0.7/libexec/lib/python3.9/site-packages (0.8.9)\n",
      "\u001b[33mWARNING: You are using pip version 21.0.1; however, version 21.1.2 is available.\n",
      "You should consider upgrading via the '/usr/local/Cellar/jupyterlab/3.0.7/libexec/bin/python3 -m pip install --upgrade pip' command.\u001b[0m\n",
      "Note: you may need to restart the kernel to use updated packages.\n"
     ]
    }
   ],
   "source": [
    "pip install tabulate"
   ]
  },
  {
   "cell_type": "code",
   "execution_count": 157,
   "id": "standard-explosion",
   "metadata": {},
   "outputs": [],
   "source": [
    "from tabulate import tabulate"
   ]
  },
  {
   "cell_type": "code",
   "execution_count": 158,
   "id": "antique-taiwan",
   "metadata": {},
   "outputs": [],
   "source": [
    "header = ['English Version', 'Chinese Version']\n",
    "lb = [' ', ' '] #line break\n",
    "title = ['ALL', '一切']\n",
    "poet = ['Bei Dao', '北岛']"
   ]
  },
  {
   "cell_type": "code",
   "execution_count": 159,
   "id": "naked-yacht",
   "metadata": {},
   "outputs": [],
   "source": [
    "row1 = ['All is fated,', '一切都是命运']\n",
    "row2 = ['all is cloudy,', '一切都是烟云']\n",
    "\n",
    "row3 = ['all an endless beginning', '一切都是没有结局的开始']\n",
    "row4 = ['all a search for what vanishes,', '一切都是稍纵即逝的追寻']\n",
    "\n",
    "row5 = ['all joys grave,', '一切欢乐都没有微笑']\n",
    "row6 = [\"all grief's tearless\", '一切苦难都没有泪痕']\n",
    "\n",
    "row7 = ['every speech a repetition,', '一切语言都是重复']\n",
    "row8 = ['every meeting a first encounter,', '一切交往都是初逢']\n",
    "\n",
    "row9 = ['all love buried in the heart,', '一切爱情都在心里']\n",
    "row10 = ['all history prisoned in a dream', '一切往事都在梦中']\n",
    "\n",
    "row11 = ['all hope hedged with doubt,', '一切希望都带着注释']\n",
    "row12 = ['all faith drowned in lamentation.', '一切信仰都带着呻吟']\n",
    "\n",
    "row13 = ['Every explosion heralds an instant of stillness,', '一切爆发都有片刻的宁静']\n",
    "row14 = ['every death reverberates forever.', '一切死亡都有冗长的回声']"
   ]
  },
  {
   "cell_type": "code",
   "execution_count": 160,
   "id": "strategic-requirement",
   "metadata": {},
   "outputs": [],
   "source": [
    "table = [[header[0], header[1]], [lb[0], lb[1]], \n",
    "         [color.RED + title[0] + color.END, color.BLUE + title[1] + color.END], \n",
    "         [lb[0], lb[1]],\n",
    "         [poet[0], poet[1]], \n",
    "         [lb[0], lb[1]],\n",
    "         [row1[0], row1[1]], \n",
    "         [row2[0], row2[1]],\n",
    "         [lb[0], lb[1]],\n",
    "         [row3[0], row3[1]], \n",
    "         [row4[0], row4[1]],\n",
    "         [lb[0], lb[1]],\n",
    "         [row5[0], row5[1]], \n",
    "         [row6[0], row6[1]],\n",
    "         [lb[0], lb[1]],\n",
    "         [row7[0], row7[1]],\n",
    "         [row8[0], row8[1]],\n",
    "         [lb[0], lb[1]],\n",
    "         [row9[0], row9[1]],\n",
    "         [row10[0], row10[1]],\n",
    "         [lb[0], lb[1]],\n",
    "         [row11[0], row11[1]],\n",
    "         [row12[0], row12[1]],\n",
    "         [lb[0], lb[1]],\n",
    "         [row13[0], row13[1]],\n",
    "         [row14[0], row14[1]]]"
   ]
  },
  {
   "cell_type": "code",
   "execution_count": 161,
   "id": "grand-thirty",
   "metadata": {},
   "outputs": [
    {
     "name": "stdout",
     "output_type": "stream",
     "text": [
      "\n",
      "\n",
      "\n",
      "\n",
      "\n",
      "\n",
      "English Version                                   Chinese Version\n",
      "------------------------------------------------  ----------------------\n",
      "\n",
      "\u001b[91mALL\u001b[0m                                               \u001b[94m一切\u001b[0m\n",
      "\n",
      "Bei Dao                                           北岛\n",
      "\n",
      "All is fated,                                     一切都是命运\n",
      "all is cloudy,                                    一切都是烟云\n",
      "\n",
      "all an endless beginning                          一切都是没有结局的开始\n",
      "all a search for what vanishes,                   一切都是稍纵即逝的追寻\n",
      "\n",
      "all joys grave,                                   一切欢乐都没有微笑\n",
      "all grief's tearless                              一切苦难都没有泪痕\n",
      "\n",
      "every speech a repetition,                        一切语言都是重复\n",
      "every meeting a first encounter,                  一切交往都是初逢\n",
      "\n",
      "all love buried in the heart,                     一切爱情都在心里\n",
      "all history prisoned in a dream                   一切往事都在梦中\n",
      "\n",
      "all hope hedged with doubt,                       一切希望都带着注释\n",
      "all faith drowned in lamentation.                 一切信仰都带着呻吟\n",
      "\n",
      "Every explosion heralds an instant of stillness,  一切爆发都有片刻的宁静\n",
      "every death reverberates forever.                 一切死亡都有冗长的回声\n",
      "\n",
      "\n",
      "\n",
      "\n",
      "\n",
      "\n"
     ]
    }
   ],
   "source": [
    "print('\\n')\n",
    "print('\\n')\n",
    "print('\\n')\n",
    "print(tabulate(table, headers='firstrow'))\n",
    "print('\\n')\n",
    "print('\\n')\n",
    "print('\\n')"
   ]
  },
  {
   "cell_type": "markdown",
   "id": "insured-produce",
   "metadata": {},
   "source": [
    "### *Second Experiment*"
   ]
  },
  {
   "cell_type": "code",
   "execution_count": 176,
   "id": "geographic-thanks",
   "metadata": {},
   "outputs": [
    {
     "name": "stdout",
     "output_type": "stream",
     "text": [
      "\n",
      "\n",
      "\n",
      "\n",
      "\n",
      "\n",
      "\u001b[1m\u001b[91mALL\u001b[0m\n",
      "\n",
      "\n",
      "Bei Dao\n",
      "\n",
      "\n",
      "All is fated,\n",
      "all is cloudy,\n",
      "\n",
      "\n",
      "all an endless beginning\n",
      "all a search for what vanishes,\n",
      "\n",
      "\n",
      "all joys grave,\n",
      "all grief's tearless\n",
      "\n",
      "\n",
      "every speech a repetition,\n",
      "every speech a repetition,\n",
      "every speech a repetition,\n",
      "every speech a repetition,\n",
      "every speech a repetition,\n",
      "every speech a repetition,\n",
      "every speech a repetition,\n",
      "every speech a repetition,\n",
      "every speech a repetition,\n",
      "every speech a repetition,\n",
      "every meeting a first encounter,\n",
      "\n",
      "\n",
      "all love buried in the heart,\n",
      "all history prisoned in a dream\n",
      "\n",
      "\n",
      "all hope hedged with doubt,\n",
      "all faith drowned in lamentation.\n",
      "\n",
      "\n",
      "Every explosion heralds an instant of stillness,\n",
      "every death reverberates forever.\n",
      "\n",
      "\n",
      "\n",
      "\n",
      "\n",
      "\n"
     ]
    }
   ],
   "source": [
    "print('\\n')\n",
    "print('\\n')\n",
    "print('\\n')\n",
    "print(color.BOLD + color.RED + title[0] + color.END)\n",
    "print('\\n')\n",
    "print(poet[0])\n",
    "print('\\n')\n",
    "print(row1[0])\n",
    "print(row2[0])\n",
    "print('\\n')\n",
    "print(row3[0])\n",
    "print(row4[0])\n",
    "print('\\n')\n",
    "print(row5[0])\n",
    "print(row6[0])\n",
    "print('\\n')\n",
    "for repetition in range(10):\n",
    "    print(row7[0])\n",
    "print(row8[0])\n",
    "print('\\n')\n",
    "print(row9[0])\n",
    "print(row10[0])\n",
    "print('\\n')\n",
    "print(row11[0])\n",
    "print(row12[0])\n",
    "print('\\n')\n",
    "print(row13[0])\n",
    "print(row14[0])\n",
    "print('\\n')\n",
    "print('\\n')\n",
    "print('\\n')"
   ]
  },
  {
   "cell_type": "markdown",
   "id": "matched-leather",
   "metadata": {},
   "source": [
    "### *Third Experiment*"
   ]
  },
  {
   "cell_type": "code",
   "execution_count": 162,
   "id": "configured-literacy",
   "metadata": {},
   "outputs": [],
   "source": [
    "table.remove(header)"
   ]
  },
  {
   "cell_type": "code",
   "execution_count": 2,
   "id": "productive-afghanistan",
   "metadata": {},
   "outputs": [],
   "source": [
    "echo = '一切死亡都有冗长的回声'\n",
    "\n",
    "# '回声' means ‘echo'"
   ]
  },
  {
   "cell_type": "code",
   "execution_count": 209,
   "id": "plain-disorder",
   "metadata": {},
   "outputs": [
    {
     "data": {
      "text/plain": [
       "11"
      ]
     },
     "execution_count": 209,
     "metadata": {},
     "output_type": "execute_result"
    }
   ],
   "source": [
    "len(echo)"
   ]
  },
  {
   "cell_type": "code",
   "execution_count": 256,
   "id": "olive-hygiene",
   "metadata": {},
   "outputs": [
    {
     "name": "stdout",
     "output_type": "stream",
     "text": [
      "\n",
      "\n",
      "\n",
      "\n",
      "\n",
      "\n",
      " \n",
      "\u001b[94m一切\u001b[0m\n",
      " \n",
      "北岛\n",
      " \n",
      "一切都是命运\n",
      "一切都是烟云\n",
      " \n",
      "一切都是没有结局的开始\n",
      "一切都是稍纵即逝的追寻\n",
      " \n",
      "一切欢乐都没有微笑\n",
      "一切苦难都没有泪痕\n",
      " \n",
      "一切语言都是重复\n",
      "一切交往都是初逢\n",
      " \n",
      "一切爱情都在心里\n",
      "一切往事都在梦中\n",
      " \n",
      "一切希望都带着注释\n",
      "一切信仰都带着呻吟\n",
      " \n",
      "一切爆发都有片刻的宁静\n",
      "一切死亡都有冗长的回声\n",
      "一切死亡都有冗长的回声\n",
      "切死亡都有冗长的回声\n",
      "死亡都有冗长的回声\n",
      "亡都有冗长的回声\n",
      "都有冗长的回声\n",
      "有冗长的回声\n",
      "冗长的回声\n",
      "长的回声\n",
      "的回声\n",
      "回声\n",
      "声\n",
      "\n",
      "\n",
      "\n",
      "\n",
      "\n",
      "\n"
     ]
    }
   ],
   "source": [
    "print('\\n')\n",
    "print('\\n')\n",
    "print('\\n')\n",
    "\n",
    "for x,y in table:\n",
    "    print(y)\n",
    "\n",
    "x = 0\n",
    "\n",
    "for repetition in range(11): \n",
    "    print(echo[x:])\n",
    "    x=x+1\n",
    "    \n",
    "print('\\n')\n",
    "print('\\n')\n",
    "print('\\n')"
   ]
  }
 ],
 "metadata": {
  "kernelspec": {
   "display_name": "Python 3",
   "language": "python",
   "name": "python3"
  },
  "language_info": {
   "codemirror_mode": {
    "name": "ipython",
    "version": 3
   },
   "file_extension": ".py",
   "mimetype": "text/x-python",
   "name": "python",
   "nbconvert_exporter": "python",
   "pygments_lexer": "ipython3",
   "version": "3.9.1"
  }
 },
 "nbformat": 4,
 "nbformat_minor": 5
}
