{
 "cells": [
  {
   "cell_type": "markdown",
   "id": "0846df31",
   "metadata": {},
   "source": [
    "## *A Code Poem That Will Not Run*"
   ]
  },
  {
   "cell_type": "code",
   "execution_count": 2,
   "id": "b1915f87",
   "metadata": {},
   "outputs": [],
   "source": [
    "# If One Day, a poem by Kawa Nijian\n",
    "# https://www.poetryinternational.org/pi/poem/28070/auto/0/0/Kawa-Niangji-%E0%BD%A3%E0%BD%82%E0%BD%A6%E0%BD%80%E0%BD%9F%E0%BD%93%E0%BD%96%E0%BD%A6/If-One-Day/en/tile"
   ]
  },
  {
   "cell_type": "code",
   "execution_count": null,
   "id": "bd2d52a8",
   "metadata": {},
   "outputs": [],
   "source": [
    "if (one day)\n",
    "\n",
    "    if (one day = I fade out and not saying a goodbye)\n",
    "        def ('with half joy half bitterness')\n",
    "            catching (a bus (going any direction))\n",
    "            getting off (halfway)\n",
    "            wayward with (the wind)\n",
    "            forgive (me and my restless soul)\n",
    "    \n",
    "    if (one day = I knock on your dream)\n",
    "        if (at the break of dawn or deep in the quiet night)\n",
    "            do not (reject me or push me out the door)\n",
    "            do not (call me a stranger)\n",
    "            def (\"I've climbed over mountains and mountains\")\n",
    "                i = just to take a glance at you, in wind or dust"
   ]
  }
 ],
 "metadata": {
  "kernelspec": {
   "display_name": "Python 3",
   "language": "python",
   "name": "python3"
  },
  "language_info": {
   "codemirror_mode": {
    "name": "ipython",
    "version": 3
   },
   "file_extension": ".py",
   "mimetype": "text/x-python",
   "name": "python",
   "nbconvert_exporter": "python",
   "pygments_lexer": "ipython3",
   "version": "3.9.5"
  }
 },
 "nbformat": 4,
 "nbformat_minor": 5
}
