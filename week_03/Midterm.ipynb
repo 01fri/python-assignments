{
 "cells": [
  {
   "cell_type": "markdown",
   "id": "e3772d72",
   "metadata": {},
   "source": [
    "# *Pseudocode*"
   ]
  },
  {
   "cell_type": "code",
   "execution_count": null,
   "id": "b89927fb",
   "metadata": {},
   "outputs": [],
   "source": [
    "# Image distortion v1\n",
    "\n",
    "# Import Image from wand.image module\n",
    "from wand.image import Image\n",
    " \n",
    "# Read image using Image function\n",
    "with Image(filename =\"image.png\") as img:\n",
    "    arguments = (0, 0, 20, 60,\n",
    "                 90, 0, 70, 63,\n",
    "                 0, 90, 5, 83,\n",
    "                 90, 90, 85, 88)\n",
    "    img.distort('perspective', arguments)\n",
    "    img.save(filename ='imagedistort.png')"
   ]
  },
  {
   "cell_type": "code",
   "execution_count": null,
   "id": "4b6b189a",
   "metadata": {},
   "outputs": [],
   "source": [
    "# Image distortion v2\n",
    "\n",
    "from PIL import Image, ImageFilter\n",
    "\n",
    "im = Image.open('image2.jpg')\n",
    "\n",
    "im1 = im.filter(ImageFilter.BLUR)\n",
    "im1.show()\n",
    "\n",
    "im2 = im.filter(ImageFilter.MinFilter(3))\n",
    "im2.show()\n",
    "\n",
    "im3 = im.filter(ImageFilter.MinFilter) # same as MinFilter(3)\n",
    "im3.show()\n"
   ]
  },
  {
   "cell_type": "code",
   "execution_count": null,
   "id": "e6ad6625",
   "metadata": {},
   "outputs": [],
   "source": [
    "from PIL import ImageFilter\n",
    "\n",
    "im1 = im.filter(ImageFilter.BLUR)\n",
    "\n",
    "im2 = im.filter(ImageFilter.MinFilter(3))\n",
    "im3 = im.filter(ImageFilter.MinFilter)  # same as MinFilter(3)"
   ]
  },
  {
   "cell_type": "code",
   "execution_count": null,
   "id": "a1b73ac2",
   "metadata": {},
   "outputs": [],
   "source": [
    "# PIL filter types ->\n",
    "\n",
    "# BLUR; CONTOUR; DETAIL; EDGE_ENHANCE; EDGE_ENHANCE_MORE; EMBOSS; FIND_EDGES; SHARPEN; SMOOTH; SMOOTH_MORE"
   ]
  },
  {
   "cell_type": "code",
   "execution_count": null,
   "id": "2da10f2c",
   "metadata": {},
   "outputs": [],
   "source": [
    "# Image distortion v3\n",
    "\n",
    "#Import required image modules\n",
    "from PIL import Image, ImageFilter\n",
    "\n",
    "#Import all the enhancement filter from pillow\n",
    "from PIL.ImageFilter import (\n",
    "   BLUR, CONTOUR, DETAIL, EDGE_ENHANCE, EDGE_ENHANCE_MORE,\n",
    "   EMBOSS, FIND_EDGES, SMOOTH, SMOOTH_MORE, SHARPEN\n",
    ")\n",
    "#Create image object\n",
    "img = Image.open('images/cat.jpg')\n",
    "#Applying the blur filter\n",
    "img1 = img.filter(CONTOUR)\n",
    "img1.save('images/ImageFilter_blur.jpg')\n",
    "img1.show()"
   ]
  },
  {
   "cell_type": "code",
   "execution_count": null,
   "id": "e89a2bf9",
   "metadata": {},
   "outputs": [],
   "source": [
    "# Image distortion v4\n",
    "# Imaug lib\n",
    "# https://github.com/aleju/imgaug\n",
    "\n",
    "pip install imgaug"
   ]
  },
  {
   "cell_type": "code",
   "execution_count": null,
   "id": "91b8e4e0",
   "metadata": {},
   "outputs": [],
   "source": [
    "# Image distortion v5\n",
    "# using Numpy and Matplotlib\n",
    "\n",
    "import numpy as np\n",
    "import matplotlib.pyplot as plt\n",
    "from skimage.io import imread, imshow\n",
    "from skimage.color import rgb2gray\n",
    "from skimage.transform import rescale\n",
    "from scipy.signal import convolve2d"
   ]
  },
  {
   "cell_type": "code",
   "execution_count": null,
   "id": "3f6248d4",
   "metadata": {},
   "outputs": [],
   "source": [
    "# Using machine learning StyleGAN model to generate new images\n",
    "# https://github.com/NVlabs/stylegan2-ada\n",
    "# https://github.com/datavzch/GANWS21/blob/main/Training_Stylegan.ipynb"
   ]
  },
  {
   "cell_type": "code",
   "execution_count": null,
   "id": "51d11818",
   "metadata": {},
   "outputs": [],
   "source": [
    "# Google street view lib\n",
    "# https://github.com/deepmind/streetlearn"
   ]
  },
  {
   "cell_type": "code",
   "execution_count": null,
   "id": "4a4edbda",
   "metadata": {},
   "outputs": [],
   "source": [
    "# Google landmark dataset\n",
    "# https://ai.googleblog.com/2019/05/announcing-google-landmarks-v2-improved.html\n",
    "# https://github.com/cvdfoundation/google-landmark\n",
    "\n",
    "# Citation:\n",
    "# \"Google Landmarks Dataset v2 - A Large-Scale Benchmark for Instance-Level Recognition and Retrieval\" T. Weyand*, A. Araujo*, B. Cao, J. Sim Proc. CVPR'20"
   ]
  }
 ],
 "metadata": {
  "kernelspec": {
   "display_name": "Python 3",
   "language": "python",
   "name": "python3"
  },
  "language_info": {
   "codemirror_mode": {
    "name": "ipython",
    "version": 3
   },
   "file_extension": ".py",
   "mimetype": "text/x-python",
   "name": "python",
   "nbconvert_exporter": "python",
   "pygments_lexer": "ipython3",
   "version": "3.9.5"
  }
 },
 "nbformat": 4,
 "nbformat_minor": 5
}
